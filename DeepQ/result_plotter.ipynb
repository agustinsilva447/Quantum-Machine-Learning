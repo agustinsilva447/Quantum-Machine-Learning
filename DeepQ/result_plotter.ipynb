{
 "cells": [
  {
   "cell_type": "code",
   "execution_count": 1,
   "metadata": {},
   "outputs": [],
   "source": [
    "import numpy as np\n",
    "import matplotlib.pyplot as plt\n",
    "%matplotlib notebook\n",
    "import torch"
   ]
  },
  {
   "cell_type": "code",
   "execution_count": 3,
   "metadata": {},
   "outputs": [],
   "source": [
    "from model import SmallNet\n",
    "\n",
    "parallel_data = True\n",
    "\n",
    "prefix = 'models/burlington_batch4_scheduledLR2_'\n",
    "num_files = -1\n",
    "model_type = SmallNet"
   ]
  },
  {
   "cell_type": "code",
   "execution_count": 4,
   "metadata": {},
   "outputs": [],
   "source": [
    "n_channels = 4"
   ]
  },
  {
   "cell_type": "code",
   "execution_count": 50,
   "metadata": {},
   "outputs": [
    {
     "name": "stdout",
     "output_type": "stream",
     "text": [
      "env: CUDA_VISIBLE_DEVICES=4\n"
     ]
    },
    {
     "data": {
      "text/plain": [
       "IncompatibleKeys(missing_keys=[], unexpected_keys=[])"
      ]
     },
     "execution_count": 50,
     "metadata": {},
     "output_type": "execute_result"
    }
   ],
   "source": [
    "%env CUDA_VISIBLE_DEVICES=4\n",
    "checkpoint = torch.load(prefix + 'final_model.mdl')\n",
    "model = model_type(n_channels=2*n_channels, concat_features=False)\n",
    "model.cuda()\n",
    "if parallel_data:\n",
    "    model = torch.nn.DataParallel(model)\n",
    "model.load_state_dict(checkpoint['state_dict'], strict=False)"
   ]
  },
  {
   "cell_type": "code",
   "execution_count": 51,
   "metadata": {},
   "outputs": [
    {
     "name": "stdout",
     "output_type": "stream",
     "text": [
      "env: CUDA_VISIBLE_DEVICES=4\n"
     ]
    },
    {
     "data": {
      "text/plain": [
       "IncompatibleKeys(missing_keys=[], unexpected_keys=[])"
      ]
     },
     "execution_count": 51,
     "metadata": {},
     "output_type": "execute_result"
    }
   ],
   "source": [
    "%env CUDA_VISIBLE_DEVICES=4\n",
    "\n",
    "checkpoint2 = torch.load(prefix + 'early_stop.mdl')\n",
    "model2 = model_type(n_channels=2*n_channels, concat_features=False)\n",
    "model2.cuda()\n",
    "if parallel_data:\n",
    "    model2 = torch.nn.DataParallel(model2)\n",
    "model2.load_state_dict(checkpoint2['state_dict'], strict=False)"
   ]
  },
  {
   "cell_type": "code",
   "execution_count": 8,
   "metadata": {},
   "outputs": [],
   "source": [
    "from train_5qubit import circuit_to_image, family_to_images"
   ]
  },
  {
   "cell_type": "code",
   "execution_count": 9,
   "metadata": {},
   "outputs": [],
   "source": [
    "import torchvision.transforms as transforms\n",
    "from model import CircuitPairDataset\n",
    "from torch.utils.data import DataLoader\n",
    "import glob\n",
    "\n",
    "noise_file = 'supremacy_all_5_unique/burlington_noise.npy'\n",
    "circuits_file = 'supremacy_all_5_unique/circuits.npy'\n",
    "\n",
    "\n",
    "np_target = np.load(noise_file)\n",
    "np_data = []\n",
    "raw_data = np.load(circuits_file)\n",
    "for f in raw_data:\n",
    "    np_data.append(family_to_images(f))\n",
    "\n",
    "np_data = np.array(np_data)"
   ]
  },
  {
   "cell_type": "code",
   "execution_count": 10,
   "metadata": {},
   "outputs": [
    {
     "name": "stdout",
     "output_type": "stream",
     "text": [
      "data shape (1000, 16, 4, 44, 5)\n",
      "target shape (1000, 16)\n"
     ]
    }
   ],
   "source": [
    "print('data shape', np_data.shape)\n",
    "print('target shape', np_target.shape)\n",
    "\n",
    "# shuffle to remove time ordering of runs\n",
    "np.random.seed(0)\n",
    "order = np.arange(np_data.shape[0])\n",
    "np.random.shuffle(order)\n",
    "np_data = np_data[order]\n",
    "np_target = np_target[order]\n",
    "\n",
    "\n",
    "# normalize data\n",
    "channel_mean = np.mean(np_data, axis=(0, 1, 3, 4))\n",
    "channel_stdev = np.std(np_data, axis=(0, 1, 3, 4))\n",
    "transform = transforms.Normalize(channel_mean, channel_stdev)"
   ]
  },
  {
   "cell_type": "code",
   "execution_count": 11,
   "metadata": {},
   "outputs": [],
   "source": [
    "train_fraction = 0.8\n",
    "validate_fraction = 0.1\n",
    "\n",
    "train_len = int(train_fraction*len(np_data))\n",
    "valid_len = int(validate_fraction*len(np_data))\n",
    "\n",
    "train_circuits = np_data[:train_len]\n",
    "train_target = np_target[:train_len]\n",
    "valid_circuits = np_data[train_len + valid_len:]\n",
    "valid_target = np_target[train_len + valid_len:]\n",
    "test_circuits = np_data[train_len:train_len + valid_len]\n",
    "test_target = np_target[train_len:train_len + valid_len]\n",
    "\n",
    "transform = transforms.Normalize(channel_mean, channel_stdev)\n",
    "# train_dataset = CircuitPairDataset(train_circuits, train_target, transform=transform)\n",
    "# train_loader = DataLoader(train_dataset, batch_size=512, shuffle=False, num_workers=2, pin_memory=torch.cuda.is_available())\n",
    "valid_dataset = CircuitPairDataset(valid_circuits, valid_target, transform=transform, reflect=False)\n",
    "valid_loader = DataLoader(valid_dataset, batch_size=512, shuffle=False, num_workers=2, pin_memory=torch.cuda.is_available())\n",
    "test_dataset = CircuitPairDataset(test_circuits, test_target, transform=transform, reflect=False)\n",
    "test_loader = DataLoader(test_dataset, batch_size=512, shuffle=False, num_workers=2, pin_memory=torch.cuda.is_available())"
   ]
  },
  {
   "cell_type": "code",
   "execution_count": 12,
   "metadata": {},
   "outputs": [],
   "source": [
    "model.eval()\n",
    "predictions_final = np.zeros(0)\n",
    "for i, data in enumerate(test_loader, 0):\n",
    "    inputs, circuit_lengths, target = data\n",
    "    inputs = inputs.cuda()\n",
    "    circuit_lengths = circuit_lengths.cuda()\n",
    "    outputs = model(inputs)\n",
    "    target = np.reshape(target.numpy(), len(target))\n",
    "    outputs = outputs.cpu().detach().numpy()\n",
    "    outputs = np.reshape(outputs, len(outputs))\n",
    "    \n",
    "    predictions_final = np.append(predictions_final, outputs)"
   ]
  },
  {
   "cell_type": "code",
   "execution_count": 52,
   "metadata": {},
   "outputs": [],
   "source": [
    "labels = np.zeros(0)\n",
    "model2.eval()\n",
    "predictions_early = np.zeros(0)\n",
    "for i, data in enumerate(test_loader, 0):\n",
    "    inputs, circuit_lengths, target = data\n",
    "    inputs = inputs.cuda()\n",
    "    circuit_lengths = circuit_lengths.cuda()\n",
    "    outputs = model2(inputs)\n",
    "    outputs = outputs.cpu().detach().numpy()\n",
    "    outputs = np.reshape(outputs, len(outputs))\n",
    "    \n",
    "    labels = np.append(labels, target)\n",
    "    predictions_early = np.append(predictions_early, outputs)"
   ]
  },
  {
   "cell_type": "code",
   "execution_count": 14,
   "metadata": {},
   "outputs": [],
   "source": [
    "model.eval()\n",
    "valid_predictions_final = np.zeros(0)\n",
    "for i, data in enumerate(valid_loader, 0):\n",
    "    inputs, circuit_lengths, target = data\n",
    "    inputs = inputs.cuda()\n",
    "    circuit_lengths = circuit_lengths.cuda()\n",
    "    outputs = model(inputs)\n",
    "    target = np.reshape(target.numpy(), len(target))\n",
    "    outputs = outputs.cpu().detach().numpy()\n",
    "    outputs = np.reshape(outputs, len(outputs))\n",
    "    \n",
    "    valid_predictions_final = np.append(valid_predictions_final, outputs)"
   ]
  },
  {
   "cell_type": "code",
   "execution_count": 53,
   "metadata": {},
   "outputs": [],
   "source": [
    "valid_labels = np.zeros(0)\n",
    "model2.eval()\n",
    "valid_predictions_early = np.zeros(0)\n",
    "for i, data in enumerate(valid_loader, 0):\n",
    "    inputs, circuit_lengths, target = data\n",
    "    inputs = inputs.cuda()\n",
    "    circuit_lengths = circuit_lengths.cuda()\n",
    "    outputs = model2(inputs)\n",
    "    outputs = outputs.cpu().detach().numpy()\n",
    "    outputs = np.reshape(outputs, len(outputs))\n",
    "    \n",
    "    valid_labels = np.append(valid_labels, target)\n",
    "    valid_predictions_early = np.append(valid_predictions_early, outputs)"
   ]
  },
  {
   "cell_type": "code",
   "execution_count": 16,
   "metadata": {},
   "outputs": [],
   "source": [
    "def bin_data(d, plot_labels):\n",
    "    sorter = np.argsort(d)\n",
    "    grouped_labels = np.split(plot_labels[sorter], np.cumsum(np.unique(d[sorter], return_counts=True)[1])[:-1])\n",
    "    x_values = np.unique(d[sorter])\n",
    "    averages = np.zeros(len(x_values))\n",
    "    stdevs = np.zeros(len(x_values))\n",
    "    for i in range(len(grouped_labels)):\n",
    "        averages[i] = np.average(grouped_labels[i])\n",
    "        stdevs[i] = np.std(grouped_labels[i])/np.sqrt(len(grouped_labels[i]))\n",
    "    return x_values, averages, stdevs"
   ]
  },
  {
   "cell_type": "code",
   "execution_count": 17,
   "metadata": {},
   "outputs": [],
   "source": [
    "def plot_all(predicted, target):\n",
    "    max_lim = np.amax(target)\n",
    "    min_lim = np.amin(target)\n",
    "    plt.figure()\n",
    "    plt.scatter(target, predicted, alpha=0.1)\n",
    "    x = np.linspace(min_lim, max_lim)\n",
    "    plt.plot(x, x, color='orange')\n",
    "    plt.xlim((min_lim, max_lim))\n",
    "    plt.ylim((min_lim, max_lim))\n",
    "    plt.xlabel('True ' + 'noise')\n",
    "    plt.ylabel('Predicted ' + 'noise')\n",
    "    plt.show()"
   ]
  },
  {
   "cell_type": "code",
   "execution_count": 18,
   "metadata": {},
   "outputs": [],
   "source": [
    "from sklearn.metrics import r2_score, mean_absolute_error, mean_squared_error, median_absolute_error\n",
    "\n",
    "def show_results(predicted, target):\n",
    "    print('MSE:', mean_squared_error(target, predicted))\n",
    "    print('MAE:', mean_absolute_error(target, predicted))\n",
    "    print('R^2:', r2_score(target, predicted))\n",
    "    plot_all(predicted, target)"
   ]
  },
  {
   "cell_type": "code",
   "execution_count": 19,
   "metadata": {},
   "outputs": [],
   "source": [
    "def predict(circuit_pairs, target, asymmetric_predictions):\n",
    "    pairs = target[np.unravel_index(circuit_pairs, target.shape)]\n",
    "    shaped_target = pairs[:, 1] - pairs[:, 0]\n",
    "    reverse_inds = np.zeros(len(pairs)).astype(int)\n",
    "    for i in range(len(pairs)):\n",
    "        b, a = circuit_pairs[i]\n",
    "        ind = (a - a//16)*15 + (b - b//16)\n",
    "        if a < b:\n",
    "            ind -= 1\n",
    "        reverse_inds[i] = ind\n",
    "    predictions_ensemble = (asymmetric_predictions - asymmetric_predictions[reverse_inds])/2\n",
    "    return predictions_ensemble, shaped_target"
   ]
  },
  {
   "cell_type": "code",
   "execution_count": 54,
   "metadata": {
    "scrolled": true
   },
   "outputs": [],
   "source": [
    "valid_flat_preds, valid_flat_target = predict(valid_dataset.circuit_pairs, valid_target, valid_predictions_early)\n",
    "test_flat_preds, test_flat_target = predict(test_dataset.circuit_pairs, test_target, predictions_early)"
   ]
  },
  {
   "cell_type": "code",
   "execution_count": 56,
   "metadata": {},
   "outputs": [
    {
     "name": "stdout",
     "output_type": "stream",
     "text": [
      "MSE: 0.0023754060378294037\n",
      "MAE: 0.03560083960875546\n",
      "R^2: 0.658175525812722\n"
     ]
    },
    {
     "data": {
      "image/png": "[encoded data removed]",
      "text/plain": [
       "<Figure size 432x288 with 1 Axes>"
      ]
     },
     "metadata": {
      "needs_background": "light"
     },
     "output_type": "display_data"
    }
   ],
   "source": [
    "show_results(test_flat_preds, test_flat_target)"
   ]
  },
  {
   "cell_type": "code",
   "execution_count": 48,
   "metadata": {},
   "outputs": [
    {
     "data": {
      "image/png": "[encoded data removed]",
      "text/plain": [
       "<Figure size 432x288 with 1 Axes>"
      ]
     },
     "metadata": {
      "needs_background": "light"
     },
     "output_type": "display_data"
    }
   ],
   "source": [
    "plt.figure()\n",
    "plt.hist(test_flat_preds, bins=100)\n",
    "plt.xlabel('Noise')\n",
    "plt.show()"
   ]
  },
  {
   "cell_type": "code",
   "execution_count": 49,
   "metadata": {},
   "outputs": [
    {
     "data": {
      "image/png": "[encoded data removed]",
      "text/plain": [
       "<Figure size 432x288 with 1 Axes>"
      ]
     },
     "metadata": {
      "needs_background": "light"
     },
     "output_type": "display_data"
    }
   ],
   "source": [
    "plt.figure()\n",
    "plt.hist(test_flat_target, bins=100)\n",
    "plt.xlabel('Noise')\n",
    "plt.show()"
   ]
  },
  {
   "cell_type": "code",
   "execution_count": 58,
   "metadata": {},
   "outputs": [
    {
     "data": {
      "image/png": "[encoded data removed]",
      "text/plain": [
       "<Figure size 432x288 with 1 Axes>"
      ]
     },
     "metadata": {
      "needs_background": "light"
     },
     "output_type": "display_data"
    }
   ],
   "source": [
    "train_loss = checkpoint['loss_history'][0]\n",
    "valid_loss = checkpoint['loss_history'][1]\n",
    "plt.figure()\n",
    "plt.plot(train_loss[np.where(train_loss != 0)])\n",
    "plt.plot(valid_loss[np.where(train_loss != 0)])\n",
    "# plt.ylim(0, 0.75)\n",
    "plt.show()"
   ]
  },
  {
   "cell_type": "code",
   "execution_count": null,
   "metadata": {},
   "outputs": [],
   "source": []
  }
 ],
 "metadata": {
  "kernelspec": {
   "display_name": "Python 3",
   "language": "python",
   "name": "python3"
  },
  "language_info": {
   "codemirror_mode": {
    "name": "ipython",
    "version": 3
   },
   "file_extension": ".py",
   "mimetype": "text/x-python",
   "name": "python",
   "nbconvert_exporter": "python",
   "pygments_lexer": "ipython3",
   "version": "3.6.8"
  }
 },
 "nbformat": 4,
 "nbformat_minor": 4
}
