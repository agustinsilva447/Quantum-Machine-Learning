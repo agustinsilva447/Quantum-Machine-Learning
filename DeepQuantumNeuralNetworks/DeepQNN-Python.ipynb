{
 "cells": [
  {
   "cell_type": "markdown",
   "metadata": {},
   "source": [
    "# 1. Code for Feedforward Quantum Neural Networks"
   ]
  },
  {
   "cell_type": "markdown",
   "metadata": {},
   "source": [
    "## 1.1 Package-imports, universal definitions and remarks"
   ]
  },
  {
   "cell_type": "markdown",
   "metadata": {},
   "source": [
    "Import the relevant packages:"
   ]
  },
  {
   "cell_type": "code",
   "execution_count": 1,
   "metadata": {},
   "outputs": [],
   "source": [
    "#math related packages\n",
    "import scipy as sc\n",
    "import qutip as qt\n",
    "#further packages\n",
    "from time import time\n",
    "from random import sample\n",
    "import matplotlib.pyplot as plt"
   ]
  },
  {
   "cell_type": "markdown",
   "metadata": {},
   "source": [
    "Declaration of qubit kets and density matrices:"
   ]
  },
  {
   "cell_type": "code",
   "execution_count": 2,
   "metadata": {},
   "outputs": [],
   "source": [
    "#ket states\n",
    "qubit0 = qt.basis(2,0)\n",
    "qubit1 = qt.basis(2,1)\n",
    "#density matrices\n",
    "qubit0mat = qubit0 * qubit0.dag()\n",
    "qubit1mat = qubit1 * qubit1.dag()"
   ]
  },
  {
   "cell_type": "markdown",
   "metadata": {},
   "source": [
    "Declaring functions for Dirac notation:\n",
    "\n",
    "$$\\newcommand{\\ket}[1]{\\left|{#1}\\right\\rangle}$$\n",
    "$$\\newcommand{\\bra}[1]{\\left\\langle{#1}\\right|}$$"
   ]
  },
  {
   "cell_type": "markdown",
   "metadata": {},
   "source": [
    "### Data conventions\n",
    "\n",
    "The parameter QNN-Architecture $\\text{qnnArch}$ describes the structure of a quantum neural network. It is expected to be a 1-dimensional list of natural numbers that which refer to the number of perceptrons in the corresponding layer. E.g. a 2-3-2 network would be given by $\\text{qnnArch = [2, 3, 2]}$\n",
    "\n",
    "\n",
    "Any parameter $\\text{unitaries}$ is expected to be a 2-dimensional list of the networks perceptron unitaries (qutip.Qobj) given in a tensored state like\n",
    "\n",
    "$$\\text{unitaries}  = \\big[ [\\, ],[U_1^1, \\dots, U_{m_1}^1], \\dots, [U_1^l, \\dots, U_{m_l}^l], \\dots, [U_1^{out}, \\dots, U_{m_{out}}^{out}]\\big]$$\n",
    "\n",
    "$$\\text{unitaries[l][j]} = U_{j+1}^l$$\n",
    "\n",
    "(The latter formula assumes that zero-indexing is not used for the perceptron unitaries, as is indicated in the former formula)\n",
    "\n",
    "\n",
    "Any parameter $\\text{trainingData}$ is expected to be a 2-dimensional list, where every inner list has exactly two elements like\n",
    "\n",
    "$$trainingData = \\big[ [\\text{state}_1,\\, \\text{unitary} \\cdot \\text{state}_1], \\dots , [\\text{state}_N,\\, \\text{unitary} \\cdot \\text{state}_N] \\big]$$\n",
    "\n",
    "where $\\text{unitary}$ is the targeted network unitary."
   ]
  },
  {
   "cell_type": "markdown",
   "metadata": {},
   "source": [
    "## 1.2 Helper functions for the QNN-Code"
   ]
  },
  {
   "cell_type": "markdown",
   "metadata": {},
   "source": [
    "### Partial Trace\n",
    "\n",
    "The $\\text{partialTrace}$ functions assume to be given a quantum object (qutip.Qobj) $\\text{obj}$ that is the tensor product of m factors $\\{0, 1, \\dots, m-1\\}$. The functions then calculate and return the partial trace as follows:\n",
    "\n",
    "$\\text{partialTraceRem}$ traces out the factors $$\\text{rem} \\subsetneq \\{0, \\dots, m-1\\}$$\n",
    "\n",
    "$\\text{partialTraceKeep}$ traces out the factors $$\\big( \\{0, \\dots, m-1\\} \\setminus \\text{keep}\\big) \\subsetneq \\{0, \\dots, m-1\\}$$\n",
    "\n",
    "No duplicates in $\\text{rem}$ allowed. No values $\\geq m$ in $\\text{rem}$ or $\\text{keep}$ allowed."
   ]
  },
  {
   "cell_type": "code",
   "execution_count": 3,
   "metadata": {},
   "outputs": [],
   "source": [
    "def partialTraceRem(obj, rem):\n",
    "    #prepare keep list\n",
    "    rem.sort(reverse=True)\n",
    "    keep = list(range(len(obj.dims[0])))\n",
    "    for x in rem:\n",
    "        keep.pop(x)\n",
    "    res = obj;\n",
    "    #return partial trace:\n",
    "    if len(keep) != len(obj.dims[0]):\n",
    "        res = obj.ptrace(keep);\n",
    "    return res;\n",
    "\n",
    "def partialTraceKeep(obj, keep):\n",
    "    #return partial trace:\n",
    "    res = obj;\n",
    "    if len(keep) != len(obj.dims[0]):\n",
    "        res = obj.ptrace(keep);\n",
    "    return res;"
   ]
  },
  {
   "cell_type": "markdown",
   "metadata": {},
   "source": [
    "### Basis swap\n",
    "\n",
    "$\\text{swappedOp}$ assumes to be given a quantum object (qutip.Qobj) $\\text{obj}$ that is the tensor product of $m$ factors. For\n",
    "\n",
    "$$\\text{obj} = A_0 \\otimes \\dots \\otimes A_i \\otimes \\dots \\otimes A_j \\otimes \\dots A_{m-1}$$\n",
    "\n",
    "the function returns\n",
    "\n",
    "$$A_0 \\otimes \\dots \\otimes A_j \\otimes \\dots \\otimes A_i \\otimes \\dots A_{m-1}$$\n",
    "\n",
    "where $i, j \\in \\{1, \\dots, m \\}$."
   ]
  },
  {
   "cell_type": "code",
   "execution_count": 4,
   "metadata": {},
   "outputs": [],
   "source": [
    "def swappedOp(obj, i, j):\n",
    "    if i==j: return obj\n",
    "    numberOfQubits = len(obj.dims[0])\n",
    "    permute = list(range(numberOfQubits))\n",
    "    permute[i], permute[j] = permute[j], permute[i]\n",
    "    return obj.permute(permute)"
   ]
  },
  {
   "cell_type": "markdown",
   "metadata": {},
   "source": [
    "### Further functions\n",
    "\n",
    "$\\text{tensoredId}$ returns $\\underbrace{\\mathbb{1}_2 \\otimes \\dots \\otimes \\mathbb{1}_2}_{N \\text{-times}}$\n",
    "\n",
    "$\\text{tensoredQubit0}$ returns $\\ket{0 \\dots 0}_N \\bra{0 \\dots 0}$"
   ]
  },
  {
   "cell_type": "code",
   "execution_count": 5,
   "metadata": {},
   "outputs": [],
   "source": [
    "def tensoredId(N):\n",
    "    #Make Identity matrix\n",
    "    res = qt.qeye(2**N)\n",
    "    #Make dims list\n",
    "    dims = [2 for i in range(N)]\n",
    "    dims = [dims.copy(), dims.copy()]\n",
    "    res.dims = dims\n",
    "    #Return\n",
    "    return res\n",
    "\n",
    "def tensoredQubit0(N):\n",
    "    #Make Qubit matrix\n",
    "    res = qt.fock(2**N).proj() #For some reason ran faster than fock_dm(2**N) in tests\n",
    "    #Make dims list\n",
    "    dims = [2 for i in range(N)]\n",
    "    dims = [dims.copy(), dims.copy()]\n",
    "    res.dims = dims\n",
    "    #Return\n",
    "    return res"
   ]
  },
  {
   "cell_type": "markdown",
   "metadata": {},
   "source": [
    "$\\text{unitariesCopy}$ assumes to be given $\\text{unitaries}$ as usual and returns a deep copy of it, meaning a new 2-dimensional list where every element is a copy of the element at the same position in the given 2d-list."
   ]
  },
  {
   "cell_type": "code",
   "execution_count": 6,
   "metadata": {},
   "outputs": [],
   "source": [
    "def unitariesCopy(unitaries):\n",
    "    newUnitaries = []\n",
    "    for layer in unitaries:\n",
    "        newLayer = []\n",
    "        for unitary in layer:\n",
    "            newLayer.append(unitary.copy())\n",
    "        newUnitaries.append(newLayer)\n",
    "    return newUnitaries"
   ]
  },
  {
   "cell_type": "markdown",
   "metadata": {},
   "source": [
    "## 1.3 Random generation of unitaries, training data and networks"
   ]
  },
  {
   "cell_type": "markdown",
   "metadata": {},
   "source": [
    "### Generation of random unitaries:\n",
    "\n",
    "$\\text{randomQubitUnitary}$ return a unitary $2^{\\text{numQubits}} \\times 2^{\\text{numQubits}}$-matrix as a quantum object (qutip.Qobj) that is the tensor product of $\\text{numQubits}$ factors. Before orthogonalization, it's elements are randomly picked out of a normal distribution."
   ]
  },
  {
   "cell_type": "code",
   "execution_count": 7,
   "metadata": {},
   "outputs": [],
   "source": [
    "def randomQubitUnitary(numQubits):\n",
    "    dim = 2**numQubits\n",
    "    #Make unitary matrix\n",
    "    res = sc.random.normal(size=(dim,dim)) + 1j * sc.random.normal(size=(dim,dim))\n",
    "    res = sc.linalg.orth(res)\n",
    "    res = qt.Qobj(res)\n",
    "    #Make dims list\n",
    "    dims = [2 for i in range(numQubits)]\n",
    "    dims = [dims.copy(), dims.copy()]\n",
    "    res.dims = dims\n",
    "    #Return\n",
    "    return res"
   ]
  },
  {
   "cell_type": "markdown",
   "metadata": {},
   "source": [
    "### Generation of random training data\n",
    "\n",
    "$\\text{randomQubitState}$ return a unitary $2^{\\text{numQubits}}$-vector as a quantum object (qutip.Qobj) that is the tensor product of $\\text{numQubits}$ factors. Before normalization, it's elements are randomly picked out of a normal distribution.\n",
    "\n",
    "$\\text{randomTrainingData}$ assumes to be given a unitary quantom object (qutip.Qobj) $\\text{unitary}$ that is the tensor product of m factors and returns a list of $N$ training pairs like\n",
    "\n",
    "$$trainingData = \\big[ [\\text{state}_1,\\, \\text{unitary} \\cdot \\text{state}_1], \\dots , [\\text{state}_N,\\, \\text{unitary} \\cdot \\text{state}_N] \\big]$$"
   ]
  },
  {
   "cell_type": "code",
   "execution_count": 8,
   "metadata": {},
   "outputs": [],
   "source": [
    "def randomQubitState(numQubits):\n",
    "    dim = 2**numQubits\n",
    "    #Make normalized state\n",
    "    res = sc.random.normal(size=(dim,1)) + 1j * sc.random.normal(size=(dim,1))\n",
    "    res = (1/sc.linalg.norm(res)) * res\n",
    "    res = qt.Qobj(res)\n",
    "    #Make dims list\n",
    "    dims1 = [2 for i in range(numQubits)]\n",
    "    dims2 = [1 for i in range(numQubits)]\n",
    "    dims = [dims1, dims2]\n",
    "    res.dims = dims\n",
    "    #Return\n",
    "    return res\n",
    "\n",
    "def randomTrainingData(unitary, N):\n",
    "    numQubits = len(unitary.dims[0])\n",
    "    trainingData=[]\n",
    "    #Create training data pairs\n",
    "    for i in range(N):\n",
    "        t = randomQubitState(numQubits)\n",
    "        ut = unitary*t\n",
    "        trainingData.append([t,ut])\n",
    "    #Return\n",
    "    return trainingData"
   ]
  },
  {
   "cell_type": "markdown",
   "metadata": {},
   "source": [
    "### Note regarding Qobj.dims"
   ]
  },
  {
   "cell_type": "markdown",
   "metadata": {},
   "source": [
    "Quantum objects $\\text{Qobj}$ in the $\\text{qutip}$ package have two properties regarding their sizes: $\\text{shape}$ and $\\text{dims}$. While $\\text{shape}$ denotes the \"dimensions of the underlying data matrix\", $\\text{dims}$ is a \"list keeping track of shapes for individual components of a multipartite system\" (quoted from the $\\text{qutip}$-documentation). The qutip package will only allow operations such as the multiplication of two $\\text{Qobj}$ objects $A$ and $B$, if not only their $\\text{shape}$s, but also their $\\text{dims}$ are compatible. Essentially all $\\text{Qobj}$ objects in this work are representing operators or states in an multipartite system of $n$ qubits. As we create such objects with the desired $\\text{shape}$, we have to ensure that their $\\text{dims}$ are reflective of that, which is why we manually overwrite them to meet this criteria."
   ]
  },
  {
   "cell_type": "markdown",
   "metadata": {},
   "source": [
    "### Generation of an initial network"
   ]
  },
  {
   "cell_type": "markdown",
   "metadata": {},
   "source": [
    "$\\text{randomNetwork}$ will, given a valid $\\text{qnnArch}$ as usual, return a 4-tuple that completely describes a trainable quantum-neural-network like\n",
    "\n",
    "$$\\big(\\text{qnnArch}, \\ \\text{unitaries} , \\ \\text{trainingData}, \\ \\text{networkUnitary} \\big)$$\n",
    "\n",
    "With $\\text{qnnArch},\\, \\text{unitaries}$ and $\\text{trainingData}$ as usual and $\\text{networkUnitary}$ being the targeted network unitary (with which the training data was created)."
   ]
  },
  {
   "cell_type": "code",
   "execution_count": 9,
   "metadata": {},
   "outputs": [],
   "source": [
    "def randomNetwork(qnnArch, numTrainingPairs):\n",
    "    assert qnnArch[0]==qnnArch[-1], \"Not a valid QNN-Architecture.\"\n",
    "    \n",
    "    #Create the targeted network unitary and corresponding training data\n",
    "    networkUnitary = randomQubitUnitary(qnnArch[-1])\n",
    "    networkTrainingData = randomTrainingData(networkUnitary, numTrainingPairs)\n",
    "    \n",
    "    #Create the initial random perceptron unitaries for the network\n",
    "    networkUnitaries = [[]]\n",
    "    for l in range(1, len(qnnArch)):\n",
    "        numInputQubits = qnnArch[l-1]\n",
    "        numOutputQubits = qnnArch[l]\n",
    "        \n",
    "        networkUnitaries.append([])\n",
    "        for j in range(numOutputQubits):\n",
    "            unitary = randomQubitUnitary(numInputQubits+1)\n",
    "            if numOutputQubits-1 != 0: \n",
    "                unitary = qt.tensor(randomQubitUnitary(numInputQubits+1), tensoredId(numOutputQubits-1))\n",
    "                unitary = swappedOp(unitary, numInputQubits, numInputQubits + j)\n",
    "            networkUnitaries[l].append(unitary)\n",
    "    \n",
    "    #Return\n",
    "    return (qnnArch, networkUnitaries, networkTrainingData, networkUnitary)"
   ]
  },
  {
   "cell_type": "markdown",
   "metadata": {},
   "source": [
    "## 1.4 QNN-Code"
   ]
  },
  {
   "cell_type": "markdown",
   "metadata": {},
   "source": [
    "### Cost Function\n",
    "\n",
    "$\\text{costFunction}$ assumes to be given $\\text{trainingData}$ and $\\text{outputStates}$ so that\n",
    "\n",
    "$$\\text{trainingData[x][1]} = \\ket{\\phi_x^{out}}$$\n",
    "\n",
    "$$\\text{outputStates[x]} = \\rho_x^{out}(s)$$\n",
    "\n",
    "and computes the cost function:\n",
    "\n",
    "$$C(s) = \\frac{1}{N} \\sum_{x = 1}^N \\bra{\\phi_x^{out}} \\rho_x^{out}(s) \\ket{\\phi_x^{out}}$$"
   ]
  },
  {
   "cell_type": "code",
   "execution_count": 10,
   "metadata": {},
   "outputs": [],
   "source": [
    "def costFunction(trainingData, outputStates):\n",
    "    costSum = 0\n",
    "    for i in range(len(trainingData)):\n",
    "        costSum += trainingData[i][1].dag() * outputStates[i] * trainingData[i][1]\n",
    "    return costSum.tr()/len(trainingData)"
   ]
  },
  {
   "cell_type": "markdown",
   "metadata": {},
   "source": [
    "### Layer-Channel & Adjoint-Layer-Channel\n",
    "\n",
    "$\\text{makeLayerChannel}$ assumes to be given $\\text{qnnArch}$ and $\\text{currentUnis}$ as usual and calculates\n",
    "\n",
    "\\begin{align}\n",
    "\\\\\n",
    "\\xi_s^l(X^{l-1}) & = \\text{tr}_{l-1}\\bigg( U^l(s) \\ \\big( X^{l-1} \\otimes \\ket{0 \\dots 0}_l \\bra{0 \\dots 0} \\big) \\ U^l(s)^{\\dag} \\bigg) \\\\\n",
    "& = \\text{tr}_{l-1}\\bigg( U_{m_l}^l(s) \\dots U_1^l(s) \\ \\big( X^{l-1} \\otimes \\ket{0 \\dots 0}_l \\bra{0 \\dots 0} \\big) \\ U_1^l(s)^{\\dag} \\dots U_{m_l}^l(s)^{\\dag} \\bigg) \n",
    "\\\\\n",
    "\\end{align}\n",
    "\n",
    "for $\\text{inputState} = X^{l-1}$"
   ]
  },
  {
   "cell_type": "code",
   "execution_count": 11,
   "metadata": {},
   "outputs": [],
   "source": [
    "def makeLayerChannel(qnnArch, unitaries, l, inputState):\n",
    "    numInputQubits = qnnArch[l-1]\n",
    "    numOutputQubits = qnnArch[l]\n",
    "\n",
    "    #Tensor input state\n",
    "    state = qt.tensor(inputState, tensoredQubit0(numOutputQubits))\n",
    "\n",
    "    #Calculate layer unitary\n",
    "    layerUni = unitaries[l][0].copy()\n",
    "    for i in range(1, numOutputQubits):\n",
    "        layerUni = unitaries[l][i] * layerUni\n",
    "\n",
    "    #Multiply and tensor out input state\n",
    "    return partialTraceRem(layerUni * state * layerUni.dag(), list(range(numInputQubits)))"
   ]
  },
  {
   "cell_type": "markdown",
   "metadata": {},
   "source": [
    "$\\text{makeAdjointLayerChannel}$ assumes to be given $\\text{qnnArch}$ and $\\text{unitaries}$ as usual and calculates\n",
    "\n",
    "\\begin{align}\n",
    "\\\\\n",
    "\\mathcal{F}_s^l(X^{l}) & = \\text{tr}_{l}\\bigg( \\big( \\mathbb{1}_{l-1} \\otimes \\ket{0 \\dots 0}_l \\bra{0 \\dots 0} \\big) \\ U^{l}(s)^{\\dag} \\ \\big( \\mathbb{1}_{l-1} \\otimes X^l \\big) \\ U^l(s) \\bigg) \\\\\n",
    "& = \\text{tr}_{l}\\bigg( \\big( \\mathbb{1}_{l-1} \\otimes \\ket{0 \\dots 0}_l \\bra{0 \\dots 0} \\big) \\ U_1^l(s)^{\\dag} \\dots U_{m_l}^l(s)^{\\dag} \\ \\big( \\mathbb{1}_{l-1} \\otimes X^l \\big) \\ U_{m_l}^l(s) \\dots U_1^l(s) \\bigg)\n",
    "\\\\\n",
    "\\end{align}\n",
    "\n",
    "\n",
    "for $\\text{inputState} = X^{l}$"
   ]
  },
  {
   "cell_type": "code",
   "execution_count": 12,
   "metadata": {},
   "outputs": [],
   "source": [
    "def makeAdjointLayerChannel(qnnArch, unitaries, l, outputState):\n",
    "    numInputQubits = qnnArch[l-1]\n",
    "    numOutputQubits = qnnArch[l]\n",
    "    \n",
    "    #Prepare needed states\n",
    "    inputId = tensoredId(numInputQubits)\n",
    "    state1 = qt.tensor(inputId, tensoredQubit0(numOutputQubits))\n",
    "    state2 = qt.tensor(inputId, outputState)\n",
    "\n",
    "    #Calculate layer unitary\n",
    "    layerUni = unitaries[l][0].copy()\n",
    "    for i in range(1, numOutputQubits):\n",
    "        layerUni = unitaries[l][i] * layerUni\n",
    "    \n",
    "    #Multiply and tensor out output state\n",
    "    return partialTraceKeep(state1 * layerUni.dag() * state2 * layerUni, list(range(numInputQubits)) )"
   ]
  },
  {
   "cell_type": "markdown",
   "metadata": {},
   "source": [
    "### Feedforward\n",
    "\n",
    "$\\text{feedforward}$ assumes to be given $\\text{qnnArch},\\, \\text{unitaries}$ and $\\text{trainingData}$ as usual, carries out the feedforward process as described in Appendix D.2 of ***Efficient Learning for Deep Quantum Neural Networks***:\n",
    "\n",
    "For each element $\\big[\\, \\ket{\\phi_x^{in}},\\, \\ket{\\phi_x^{out}} \\big]$ in $\\text{trainingData}$ do:\n",
    "\n",
    "- Calculate the network input $\\rho_x^{in} = \\ket{\\phi_x^{in}} \\bra{\\phi_x^{in}}$\n",
    "\n",
    "- For every layer $l$ in $\\text{qnnArch}$ do:\n",
    "\n",
    "    - Apply the layer channel $\\xi_s^l$ to the output of the previous layer $l-1$\n",
    "\n",
    "    - Store the result $\\rho_x^l(s)$"
   ]
  },
  {
   "cell_type": "code",
   "execution_count": 13,
   "metadata": {},
   "outputs": [],
   "source": [
    "def feedforward(qnnArch, unitaries, trainingData):\n",
    "    storedStates = []\n",
    "    for x in range(len(trainingData)):\n",
    "        currentState = trainingData[x][0] * trainingData[x][0].dag()\n",
    "        layerwiseList = [currentState]\n",
    "        for l in range(1, len(qnnArch)):\n",
    "            currentState = makeLayerChannel(qnnArch, unitaries, l, currentState)\n",
    "            layerwiseList.append(currentState)\n",
    "        storedStates.append(layerwiseList)\n",
    "    return storedStates"
   ]
  },
  {
   "cell_type": "markdown",
   "metadata": {},
   "source": [
    "### Update matrix\n",
    "\n",
    "$\\text{makeUpdateMatrix}$ assumes to be given $\\text{qnnArch},\\, \\text{unitaries},\\, \\text{trainingData}$ and $\\text{storedStates}$ as usual, as well as $\\lambda,\\, \\epsilon \\in \\mathbb{R}$, and calculates\n",
    "\n",
    "$$\\text{exp}\\big( i \\, \\epsilon \\, K_j^l(s) \\big)$$\n",
    "\n",
    "with\n",
    "\n",
    "$$K_j^l(s) = \\frac{2^{n_{a_1, \\dots, \\beta}} \\, i}{2 N \\lambda} \\sum_x \\text{tr}_\\text{rest} M_j^l(s)$$\n",
    "\n",
    "with \n",
    "\n",
    "$$M_j^l(s) = \\big[A_j^l(s), B_j^l(s) \\big]$$\n",
    "\n",
    "with\n",
    "\n",
    "\\begin{align}\n",
    "A_j^l(s) & = U_j^l(s) \\dots U_1^l(s) \\, \\big( \\rho_x^{l-1}(s) \\otimes \\ket{0 \\dots 0}_l \\bra{0 \\dots 0} \\big) \\, U_1^l(s)^{\\dag} \\dots U_j^l(s)^{\\dag} \\\\\n",
    "\\\\\n",
    "B_j^l(s) & = U_{j+1}^l(s)^{\\dag} \\dots U_{m_l}^l(s)^{\\dag} \\, \\big( \\mathbb{1}_l \\otimes \\sigma_x^l(s) \\big) \\, U_{m_l}^l(s) \\dots U_{j+1}^l(s)\n",
    "\\end{align}\n",
    "\n",
    "with\n",
    "\n",
    "$$\\sigma_x^l(s) = \\mathcal{F}_s^{l+1} \\big( \\dots \\mathcal{F}_s^{out} \\big( \\ket{\\phi_x^{out}} \\bra{\\phi_x^{out}} \\big) \\dots \\big)$$\n",
    "\n",
    "$\\text{updateMatrixFirstPart}$ calculates $A_j^l(s)$, $\\text{updateMatrixSecondPart}$ calculates $B_j^l(s)$.\n",
    "\n",
    "$\\text{makeUpdateMatrixTensored}$ tensors the calculated as above update matrix in such a way, that it can be applied to the already tensored perceptron unitaries."
   ]
  },
  {
   "cell_type": "code",
   "execution_count": 14,
   "metadata": {},
   "outputs": [],
   "source": [
    "def makeUpdateMatrix(qnnArch, unitaries, trainingData, storedStates, lda, ep, l, j):\n",
    "    numInputQubits = qnnArch[l-1]\n",
    "    \n",
    "    #Calculate the sum:\n",
    "    summ = 0\n",
    "    for x in range(len(trainingData)):\n",
    "        #Calculate the commutator\n",
    "        firstPart = updateMatrixFirstPart(qnnArch, unitaries, storedStates, l, j, x)\n",
    "        secondPart = updateMatrixSecondPart(qnnArch, unitaries, trainingData, l, j, x)\n",
    "        mat = qt.commutator(firstPart, secondPart)\n",
    "        \n",
    "        #Trace out the rest\n",
    "        keep = list(range(numInputQubits))\n",
    "        keep.append(numInputQubits + j)\n",
    "        mat = partialTraceKeep(mat, keep)\n",
    "        \n",
    "        #Add to sum\n",
    "        summ = summ + mat\n",
    "\n",
    "    #Calculate the update matrix from the sum\n",
    "    summ = (-ep * (2**numInputQubits)/(lda*len(trainingData))) * summ\n",
    "    return summ.expm()\n",
    "\n",
    "\n",
    "def updateMatrixFirstPart(qnnArch, unitaries, storedStates, l, j, x):\n",
    "    numInputQubits = qnnArch[l-1]\n",
    "    numOutputQubits = qnnArch[l]\n",
    "    \n",
    "    #Tensor input state\n",
    "    state = qt.tensor(storedStates[x][l-1], tensoredQubit0(numOutputQubits))\n",
    "    \n",
    "    #Calculate needed product unitary\n",
    "    productUni = unitaries[l][0]\n",
    "    for i in range(1, j+1):\n",
    "        productUni = unitaries[l][i] * productUni\n",
    "    \n",
    "    #Multiply\n",
    "    return productUni * state * productUni.dag()\n",
    "\n",
    "\n",
    "def updateMatrixSecondPart(qnnArch, unitaries, trainingData, l, j, x):\n",
    "    numInputQubits = qnnArch[l-1]\n",
    "    numOutputQubits = qnnArch[l]\n",
    "    \n",
    "    #Calculate sigma state\n",
    "    state = trainingData[x][1] * trainingData[x][1].dag()\n",
    "    for i in range(len(qnnArch)-1,l,-1):\n",
    "        state = makeAdjointLayerChannel(qnnArch, unitaries, i, state)\n",
    "    #Tensor sigma state\n",
    "    state = qt.tensor(tensoredId(numInputQubits), state)\n",
    "    \n",
    "    #Calculate needed product unitary\n",
    "    productUni = tensoredId(numInputQubits + numOutputQubits)\n",
    "    for i in range(j+1, numOutputQubits):\n",
    "        productUni = unitaries[l][i] * productUni\n",
    "        \n",
    "    #Multiply\n",
    "    return productUni.dag() * state * productUni\n",
    "\n",
    "\n",
    "def makeUpdateMatrixTensored(qnnArch, unitaries, lda, ep, trainingData, storedStates, l, j):\n",
    "    numInputQubits = qnnArch[l-1]\n",
    "    numOutputQubits = qnnArch[l]\n",
    "    \n",
    "    res = makeUpdateMatrix(qnnArch, unitaries, lda, ep, trainingData, storedStates, l, j)\n",
    "    if numOutputQubits-1 != 0:\n",
    "        res = qt.tensor(res, tensoredId(numOutputQubits-1))\n",
    "    return swappedOp(res, numInputQubits, numInputQubits + j)"
   ]
  },
  {
   "cell_type": "markdown",
   "metadata": {},
   "source": [
    "### Training of the Quantum Neural Network\n",
    "\n",
    "$\\text{qnnTraining}$ assumes to be given $\\text{qnnArch},\\, \\text{initialUnitaries}$ and $\\text{trainingData}$ as usual, as well as $\\lambda,\\, \\epsilon \\in \\mathbb{R}$ and $\\text{trainingRounds} \\in \\mathbb{N}$, and trains the given quantum neural network as summarized in Figure 2 of ***Efficient Learning for Deep Quantum Neural Networks***:\n",
    "\n",
    "**Step 1: Feedforward:** For every training pair, for every layer: Apply the layer channel $\\xi^l$ and store the result\n",
    "\n",
    "**Step 2: Updating:** Update every unitary in every layer according to $U^l_j \\rightarrow e^{i \\, \\epsilon \\, K^l_j} \\ U^l_j$\n",
    "\n",
    "**Termination: Repeat Steps 1 and 2 $\\text{trainingRounds}$ times**"
   ]
  },
  {
   "cell_type": "code",
   "execution_count": 15,
   "metadata": {},
   "outputs": [],
   "source": [
    "def qnnTraining(qnnArch, initialUnitaries, trainingData, lda, ep, trainingRounds, alert=0):\n",
    "    \n",
    "    ### FEEDFORWARD    \n",
    "    #Feedforward for given unitaries\n",
    "    s = 0\n",
    "    currentUnitaries = initialUnitaries\n",
    "    storedStates = feedforward(qnnArch, currentUnitaries, trainingData)\n",
    "\n",
    "    #Cost calculation for given unitaries\n",
    "    outputStates = []\n",
    "    for k in range(len(storedStates)):\n",
    "        outputStates.append(storedStates[k][-1])\n",
    "    plotlist = [[s], [costFunction(trainingData, outputStates)]]\n",
    "    \n",
    "    #Optional\n",
    "    runtime = time()\n",
    "    \n",
    "    #Training of the Quantum Neural Network\n",
    "    for k in range(trainingRounds):\n",
    "        if alert>0 and k%alert==0: print(\"In training round \"+str(k))\n",
    "        \n",
    "        ### UPDATING\n",
    "        newUnitaries = unitariesCopy(currentUnitaries)\n",
    "        \n",
    "        #Loop over layers:\n",
    "        for l in range(1, len(qnnArch)):\n",
    "            numInputQubits = qnnArch[l-1]\n",
    "            numOutputQubits = qnnArch[l]\n",
    "            \n",
    "            #Loop over perceptrons\n",
    "            for j in range(numOutputQubits):\n",
    "                newUnitaries[l][j] = (makeUpdateMatrixTensored(qnnArch,currentUnitaries,trainingData,storedStates,lda,ep,l,j)* currentUnitaries[l][j])\n",
    "        \n",
    "        ### FEEDFORWARD\n",
    "        #Feedforward for given unitaries\n",
    "        s = s + ep\n",
    "        currentUnitaries = newUnitaries\n",
    "        storedStates = feedforward(qnnArch, currentUnitaries, trainingData)\n",
    "        \n",
    "        #Cost calculation for given unitaries\n",
    "        outputStates = []\n",
    "        for m in range(len(storedStates)):\n",
    "            outputStates.append(storedStates[m][-1])\n",
    "        plotlist[0].append(s)\n",
    "        plotlist[1].append(costFunction(trainingData, outputStates))\n",
    "    \n",
    "    #Optional\n",
    "    runtime = time() - runtime\n",
    "    print(\"Trained \"+str(trainingRounds)+\" rounds for a \"+str(qnnArch)+\" network and \"+str(len(trainingData))+\" training pairs in \"+str(round(runtime, 2))+\" seconds\")\n",
    "    \n",
    "    #Return\n",
    "    return [plotlist, currentUnitaries]"
   ]
  },
  {
   "cell_type": "markdown",
   "metadata": {},
   "source": [
    "## 1.5 Helper-functions for Tests and Applications"
   ]
  },
  {
   "cell_type": "markdown",
   "metadata": {},
   "source": [
    "$\\text{boundRand}$ gives a formula for the estimate of the cost function, where $D$ is the dimension of the qudit that the network unitary is acting on and $N$ is the number of available training pairs of which the first $n < D$ are chosen for training:\n",
    "\n",
    "$$C \\sim \\frac{n}{N} + \\frac{N - n}{N \\cdot D \\cdot (D+1)} \\big(D + \\text{min}\\{n^2 + 1,\\, D^2\\} \\big)$$"
   ]
  },
  {
   "cell_type": "code",
   "execution_count": 16,
   "metadata": {},
   "outputs": [],
   "source": [
    "def boundRand(D, N, n):\n",
    "    return (n/N) + (N-n)/(N*D*(D+1)) * (D + min(n**2+1, D**2))"
   ]
  },
  {
   "cell_type": "markdown",
   "metadata": {},
   "source": [
    "$\\text{subsetTrainingAvg}$ is given the parameters $\\text{qnnArch},\\, \\text{initialUnitaries},\\, \\text{trainingData},\\, \\lambda,\\, \\epsilon$ and $\\text{trainingRounds}$ just like $\\text{qnnTraining}$. Additionally it recieves  $n, \\text{iterations} \\in \\mathbb{N}$.\n",
    "\n",
    "$\\text{subsetTrainingAvg}$ then does the following $\\text{iterations}$-times:\n",
    "\n",
    "- Choose a subset of $\\text{trainingData}$ of size $n$\n",
    "\n",
    "- Train the given network with said subset\n",
    "\n",
    "- Calculate the cost function of the resulting network over the whole set of $\\text{trainingData}$ and store it\n",
    "\n",
    "$\\text{subsetTrainingAvg}$ ultimately returns the cost averaged over all $\\text{iterations}$ results."
   ]
  },
  {
   "cell_type": "code",
   "execution_count": 17,
   "metadata": {},
   "outputs": [],
   "source": [
    "def subsetTrainingAvg(qnnArch, initialUnitaries, trainingData, lda, ep, trainingRounds, iterations, n, alertIt=0):\n",
    "    costpoints = []\n",
    "    \n",
    "    for i in range(iterations):\n",
    "        if alertIt>0 and i%alertIt==0: print(\"n=\"+str(n)+\", i=\"+str(i))\n",
    "        \n",
    "        #Prepare subset for training\n",
    "        trainingSubset = sample(trainingData, n)\n",
    "        \n",
    "        #Train with the subset\n",
    "        learnedUnitaries = qnnTraining(qnnArch, initialUnitaries, trainingSubset, lda, ep, trainingRounds)[1]\n",
    "        storedStates = feedforward(qnnArch, learnedUnitaries, trainingData)\n",
    "        outputStates = []\n",
    "        for k in range(len(storedStates)):\n",
    "            outputStates.append(storedStates[k][-1])\n",
    "        \n",
    "        #Calculate cost with all training data\n",
    "        costpoints.append(costFunction(trainingData, outputStates))\n",
    "    \n",
    "    return sum(costpoints)/len(costpoints)"
   ]
  },
  {
   "cell_type": "markdown",
   "metadata": {},
   "source": [
    "$\\text{noisyDataTraining}$ is given the parameters $\\text{qnnArch},\\, \\text{initialUnitaries},\\, \\lambda,\\, \\epsilon$ and $\\text{trainingRounds}$ just like $\\text{qnnTraining}$. Additionally it recieves  $\\text{numData}, \\text{stepSize} \\in \\mathbb{N}$ and $\\text{trainingData}, \\text{noisyData}$.\n",
    "\n",
    "$\\text{noisyDataTraining}$ then does the following ***for i=0; i<numData; i+=stepSize:***\n",
    "\n",
    "- Create a list $\\text{testData}$ by combining a random sample of $\\text{trainingData}$ of size $\\text{numData}-i$ and a random sample of $\\text{noisyData}$ of size $i$\n",
    "\n",
    "- Train the given network with said $\\text{testData}$\n",
    "\n",
    "- Calculate the cost function of the resulting network over the whole set of $\\text{trainingData}$ and store it\n",
    "\n",
    "$\\text{noisyDataTraining}$ ultimately returns the list of costs for all $i$ like\n",
    "\n",
    "\\begin{align}\n",
    "\\big[ & [0, \\dots, i, \\dots]\\\\\n",
    "& [\\text{Cost}_0, \\dots, \\text{Cost}_i, \\dots] \\big]\n",
    "\\end{align}"
   ]
  },
  {
   "cell_type": "code",
   "execution_count": 18,
   "metadata": {},
   "outputs": [],
   "source": [
    "def noisyDataTraining(qnnArch, initialUnitaries, trainingData, noisyData, lda, ep, trainingRounds, numData, stepSize, alertP=0):\n",
    "    noisyDataPlot = [[], []]\n",
    "    \n",
    "    i = 0\n",
    "    while i <= numData:\n",
    "        if alertP>0: print(\"Currently at \"+str(i/numData)+\"% noisy data.\")\n",
    "        \n",
    "        #Prepare mixed data for traing\n",
    "        testData1 = sample(trainingData, numData - i)\n",
    "        testData2 = sample(noisyData, i)\n",
    "        if i==0: testData = testData1\n",
    "        elif i==numData: testData = testData2\n",
    "        else: testData = testData1 + testData2\n",
    "        \n",
    "        #Train with the mixed data\n",
    "        learnedUnitaries = qnnTraining(qnnArch, initialUnitaries, testData, lda, ep, trainingRounds)[1]\n",
    "        storedStates = feedforward(qnnArch, learnedUnitaries, trainingData)\n",
    "        outputStates = []\n",
    "        for k in range(len(storedStates)):\n",
    "            outputStates.append(storedStates[k][-1])\n",
    "        \n",
    "        #Calculate cost with the real training data\n",
    "        noisyDataPlot[0].append(i)\n",
    "        noisyDataPlot[1].append(costFunction(trainingData, outputStates))\n",
    "        \n",
    "        i += stepSize\n",
    "    \n",
    "    return noisyDataPlot"
   ]
  },
  {
   "cell_type": "markdown",
   "metadata": {},
   "source": [
    "# 2. Tests and Applications of the QNN-Code"
   ]
  },
  {
   "cell_type": "markdown",
   "metadata": {},
   "source": [
    "## 2.1 Elementary tests"
   ]
  },
  {
   "cell_type": "markdown",
   "metadata": {},
   "source": [
    "### Training a 1-2-1 network"
   ]
  },
  {
   "cell_type": "code",
   "execution_count": 19,
   "metadata": {
    "scrolled": true
   },
   "outputs": [
    {
     "name": "stdout",
     "output_type": "stream",
     "text": [
      "Trained 500 rounds for a [1, 2, 1] network and 10 training pairs in 45.66 seconds\n",
      "Exceeds cost of 0.95 at training step 20\n"
     ]
    },
    {
     "data": {
      "image/png": "[encoded data removed]",
      "text/plain": [
       "<Figure size 432x288 with 1 Axes>"
      ]
     },
     "metadata": {
      "needs_background": "light"
     },
     "output_type": "display_data"
    }
   ],
   "source": [
    "network121 = randomNetwork([1,2,1], 10)\n",
    "plotlist121 = qnnTraining(network121[0], network121[1], network121[2], 1, 0.1, 500)[0]\n",
    "\n",
    "for i in range(len(plotlist121[1])):\n",
    "    if plotlist121[1][i] >= 0.95:\n",
    "        print(\"Exceeds cost of 0.95 at training step \"+str(i))\n",
    "        break\n",
    "\n",
    "plt.plot(plotlist121[0], plotlist121[1])\n",
    "plt.xlabel(\"s\")\n",
    "plt.ylabel(\"Cost[s]\")\n",
    "plt.show()"
   ]
  },
  {
   "cell_type": "markdown",
   "metadata": {},
   "source": [
    "### Training a 2-3-2 network"
   ]
  },
  {
   "cell_type": "code",
   "execution_count": 20,
   "metadata": {},
   "outputs": [
    {
     "name": "stdout",
     "output_type": "stream",
     "text": [
      "Trained 500 rounds for a [2, 3, 2] network and 10 training pairs in 99.63 seconds\n",
      "Exceeds cost of 0.95 at training step 54\n"
     ]
    },
    {
     "data": {
      "image/png": "[encoded data removed]",
      "text/plain": [
       "<Figure size 432x288 with 1 Axes>"
      ]
     },
     "metadata": {
      "needs_background": "light"
     },
     "output_type": "display_data"
    }
   ],
   "source": [
    "network232 = randomNetwork([2,3,2], 10)\n",
    "plotlist232 = qnnTraining(network232[0], network232[1], network232[2], 1, 0.1, 500)[0]\n",
    "\n",
    "for i in range(len(plotlist232[1])):\n",
    "    if plotlist232[1][i] >= 0.95:\n",
    "        print(\"Exceeds cost of 0.95 at training step \"+str(i))\n",
    "        break\n",
    "\n",
    "plt.plot(plotlist232[0], plotlist232[1])\n",
    "plt.xlabel(\"s\")\n",
    "plt.ylabel(\"Cost[s]\")\n",
    "plt.show()"
   ]
  },
  {
   "cell_type": "markdown",
   "metadata": {},
   "source": [
    "### Varying $\\lambda$ for a 2-2 network"
   ]
  },
  {
   "cell_type": "code",
   "execution_count": 21,
   "metadata": {},
   "outputs": [
    {
     "name": "stdout",
     "output_type": "stream",
     "text": [
      "Trained 200 rounds for a [2, 2] network and 10 training pairs in 12.32 seconds\n",
      "Trained 200 rounds for a [2, 2] network and 10 training pairs in 13.62 seconds\n",
      "Trained 200 rounds for a [2, 2] network and 10 training pairs in 13.06 seconds\n"
     ]
    },
    {
     "data": {
      "image/png": "[encoded data removed]",
      "text/plain": [
       "<Figure size 432x288 with 1 Axes>"
      ]
     },
     "metadata": {
      "needs_background": "light"
     },
     "output_type": "display_data"
    }
   ],
   "source": [
    "network22 = randomNetwork([2,2], 10)\n",
    "\n",
    "plotlistHalf = qnnTraining(network22[0], network22[1], network22[2], 0.5, 0.1, 200)[0]\n",
    "plotlistOne = qnnTraining(network22[0], network22[1], network22[2], 1, 0.1, 200)[0]\n",
    "plotlistTwo = qnnTraining(network22[0], network22[1], network22[2], 2, 0.1, 200)[0]\n",
    "\n",
    "\n",
    "plt.plot(plotlistHalf[0],plotlistHalf[1])\n",
    "plt.plot(plotlistOne[0], plotlistOne[1])\n",
    "plt.plot(plotlistTwo[0], plotlistTwo[1])\n",
    "plt.xlabel(\"s\")\n",
    "plt.ylabel(\"Cost[s]\")\n",
    "plt.show()"
   ]
  },
  {
   "cell_type": "markdown",
   "metadata": {},
   "source": [
    "## 2.2 Big networks"
   ]
  },
  {
   "cell_type": "markdown",
   "metadata": {},
   "source": [
    "### Training a 2-3-3-2 network"
   ]
  },
  {
   "cell_type": "code",
   "execution_count": 22,
   "metadata": {},
   "outputs": [
    {
     "name": "stdout",
     "output_type": "stream",
     "text": [
      "In training round 0\n",
      "In training round 250\n",
      "In training round 500\n",
      "In training round 750\n",
      "Trained 1000 rounds for a [2, 3, 3, 2] network and 5 training pairs in 241.57 seconds\n"
     ]
    },
    {
     "data": {
      "image/png": "[encoded data removed]",
      "text/plain": [
       "<Figure size 432x288 with 1 Axes>"
      ]
     },
     "metadata": {
      "needs_background": "light"
     },
     "output_type": "display_data"
    }
   ],
   "source": [
    "#mathematica\n",
    "    #run 1: 249,6s\n",
    "#python\n",
    "    #run 1: 148,7s\n",
    "    #run 2: 142,8s\n",
    "\n",
    "network2332 = randomNetwork([2,3,3,2], 5)\n",
    "plotlist2332 = qnnTraining(network2332[0], network2332[1], network2332[2], 4, 0.1, 1000, 250)[0]\n",
    "\n",
    "plt.plot(plotlist2332[0], plotlist2332[1])\n",
    "plt.xlabel(\"s\")\n",
    "plt.ylabel(\"Cost[s]\")\n",
    "plt.show()"
   ]
  },
  {
   "cell_type": "markdown",
   "metadata": {},
   "source": [
    "### Training a 2-3-4-3-2 network #1\n",
    "\n",
    "(Small set of training data, high number of rounds.)"
   ]
  },
  {
   "cell_type": "code",
   "execution_count": 23,
   "metadata": {},
   "outputs": [
    {
     "name": "stdout",
     "output_type": "stream",
     "text": [
      "In training round 0\n",
      "In training round 250\n",
      "In training round 500\n",
      "In training round 750\n",
      "Trained 1000 rounds for a [2, 3, 4, 3, 2] network and 5 training pairs in 895.04 seconds\n"
     ]
    },
    {
     "data": {
      "image/png": "[encoded data removed]",
      "text/plain": [
       "<Figure size 432x288 with 1 Axes>"
      ]
     },
     "metadata": {
      "needs_background": "light"
     },
     "output_type": "display_data"
    }
   ],
   "source": [
    "#mathematica\n",
    "    #run 1: 2324s = 38,7 min\n",
    "    #run 2: 1501s = 25,0 min\n",
    "#python\n",
    "    #run 1: 545s = 9,1 min\n",
    "    #run 2: 553s = 9,2 min\n",
    "\n",
    "network23432 = randomNetwork([2,3,4,3,2], 5)\n",
    "plotlist23432= qnnTraining(network23432[0], network23432[1], network23432[2], 4, 0.1, 1000, 250)[0]\n",
    "\n",
    "plt.plot(plotlist23432[0], plotlist23432[1])\n",
    "plt.xlabel(\"s\")\n",
    "plt.ylabel(\"Cost[s]\")\n",
    "plt.show()"
   ]
  },
  {
   "cell_type": "markdown",
   "metadata": {},
   "source": [
    "### Training a 2-3-4-3-2 network #2\n",
    "\n",
    "(Big set of training data, small number of rounds.)"
   ]
  },
  {
   "cell_type": "code",
   "execution_count": 24,
   "metadata": {},
   "outputs": [
    {
     "name": "stdout",
     "output_type": "stream",
     "text": [
      "In training round 0\n",
      "In training round 50\n",
      "In training round 100\n",
      "In training round 150\n",
      "In training round 200\n",
      "In training round 250\n",
      "Trained 300 rounds for a [2, 3, 4, 3, 2] network and 100 training pairs in 4833.49 seconds\n"
     ]
    },
    {
     "data": {
      "image/png": "[encoded data removed]",
      "text/plain": [
       "<Figure size 432x288 with 1 Axes>"
      ]
     },
     "metadata": {
      "needs_background": "light"
     },
     "output_type": "display_data"
    }
   ],
   "source": [
    "#mathematica\n",
    "    #(430s for 50/50)\n",
    "    #run 1: 4762s = 79 min\n",
    "#python\n",
    "    #(266s for 50/50)\n",
    "    #run 1: 3328s = 55 min\n",
    "\n",
    "network23432Two = randomNetwork([2,3,4,3,2], 100)\n",
    "plotlist23432Two= qnnTraining(network23432Two[0], network23432Two[1], network23432Two[2], 4, 0.1, 300, 50)[0]\n",
    "\n",
    "plt.plot(plotlist23432Two[0], plotlist23432Two[1])\n",
    "plt.xlabel(\"s\")\n",
    "plt.ylabel(\"Cost[s]\")\n",
    "plt.show()"
   ]
  },
  {
   "cell_type": "markdown",
   "metadata": {},
   "source": [
    "## 2.3 Generalization"
   ]
  },
  {
   "cell_type": "markdown",
   "metadata": {},
   "source": [
    "### Subset training for a 2-2 network | D = 4"
   ]
  },
  {
   "cell_type": "code",
   "execution_count": 25,
   "metadata": {},
   "outputs": [
    {
     "name": "stdout",
     "output_type": "stream",
     "text": [
      "n=1, i=0\n",
      "Trained 1000 rounds for a [2, 2] network and 1 training pairs in 14.72 seconds\n",
      "Trained 1000 rounds for a [2, 2] network and 1 training pairs in 11.71 seconds\n",
      "Trained 1000 rounds for a [2, 2] network and 1 training pairs in 9.94 seconds\n",
      "Trained 1000 rounds for a [2, 2] network and 1 training pairs in 10.21 seconds\n",
      "Trained 1000 rounds for a [2, 2] network and 1 training pairs in 9.79 seconds\n",
      "Trained 1000 rounds for a [2, 2] network and 1 training pairs in 10.17 seconds\n",
      "Trained 1000 rounds for a [2, 2] network and 1 training pairs in 9.72 seconds\n",
      "Trained 1000 rounds for a [2, 2] network and 1 training pairs in 9.22 seconds\n",
      "Trained 1000 rounds for a [2, 2] network and 1 training pairs in 9.56 seconds\n",
      "Trained 1000 rounds for a [2, 2] network and 1 training pairs in 11.55 seconds\n",
      "Trained 1000 rounds for a [2, 2] network and 1 training pairs in 8.87 seconds\n",
      "Trained 1000 rounds for a [2, 2] network and 1 training pairs in 11.31 seconds\n",
      "Trained 1000 rounds for a [2, 2] network and 1 training pairs in 11.58 seconds\n",
      "Trained 1000 rounds for a [2, 2] network and 1 training pairs in 9.47 seconds\n",
      "Trained 1000 rounds for a [2, 2] network and 1 training pairs in 8.98 seconds\n",
      "Trained 1000 rounds for a [2, 2] network and 1 training pairs in 9.85 seconds\n",
      "Trained 1000 rounds for a [2, 2] network and 1 training pairs in 8.9 seconds\n",
      "Trained 1000 rounds for a [2, 2] network and 1 training pairs in 9.59 seconds\n",
      "Trained 1000 rounds for a [2, 2] network and 1 training pairs in 24.4 seconds\n",
      "Trained 1000 rounds for a [2, 2] network and 1 training pairs in 17.21 seconds\n",
      "n=2, i=0\n",
      "Trained 1000 rounds for a [2, 2] network and 2 training pairs in 29.93 seconds\n",
      "Trained 1000 rounds for a [2, 2] network and 2 training pairs in 18.01 seconds\n",
      "Trained 1000 rounds for a [2, 2] network and 2 training pairs in 23.54 seconds\n",
      "Trained 1000 rounds for a [2, 2] network and 2 training pairs in 32.08 seconds\n",
      "Trained 1000 rounds for a [2, 2] network and 2 training pairs in 26.18 seconds\n",
      "Trained 1000 rounds for a [2, 2] network and 2 training pairs in 18.45 seconds\n",
      "Trained 1000 rounds for a [2, 2] network and 2 training pairs in 17.62 seconds\n",
      "Trained 1000 rounds for a [2, 2] network and 2 training pairs in 28.41 seconds\n",
      "Trained 1000 rounds for a [2, 2] network and 2 training pairs in 32.28 seconds\n",
      "Trained 1000 rounds for a [2, 2] network and 2 training pairs in 28.82 seconds\n",
      "Trained 1000 rounds for a [2, 2] network and 2 training pairs in 37.85 seconds\n",
      "Trained 1000 rounds for a [2, 2] network and 2 training pairs in 21.38 seconds\n",
      "Trained 1000 rounds for a [2, 2] network and 2 training pairs in 17.9 seconds\n",
      "Trained 1000 rounds for a [2, 2] network and 2 training pairs in 28.44 seconds\n",
      "Trained 1000 rounds for a [2, 2] network and 2 training pairs in 20.91 seconds\n",
      "Trained 1000 rounds for a [2, 2] network and 2 training pairs in 17.43 seconds\n",
      "Trained 1000 rounds for a [2, 2] network and 2 training pairs in 17.56 seconds\n",
      "Trained 1000 rounds for a [2, 2] network and 2 training pairs in 18.09 seconds\n",
      "Trained 1000 rounds for a [2, 2] network and 2 training pairs in 17.61 seconds\n",
      "Trained 1000 rounds for a [2, 2] network and 2 training pairs in 18.78 seconds\n",
      "n=3, i=0\n",
      "Trained 1000 rounds for a [2, 2] network and 3 training pairs in 27.78 seconds\n",
      "Trained 1000 rounds for a [2, 2] network and 3 training pairs in 39.89 seconds\n",
      "Trained 1000 rounds for a [2, 2] network and 3 training pairs in 23.45 seconds\n",
      "Trained 1000 rounds for a [2, 2] network and 3 training pairs in 34.38 seconds\n",
      "Trained 1000 rounds for a [2, 2] network and 3 training pairs in 27.54 seconds\n",
      "Trained 1000 rounds for a [2, 2] network and 3 training pairs in 23.48 seconds\n",
      "Trained 1000 rounds for a [2, 2] network and 3 training pairs in 27.7 seconds\n",
      "Trained 1000 rounds for a [2, 2] network and 3 training pairs in 24.35 seconds\n",
      "Trained 1000 rounds for a [2, 2] network and 3 training pairs in 23.59 seconds\n",
      "Trained 1000 rounds for a [2, 2] network and 3 training pairs in 23.41 seconds\n",
      "Trained 1000 rounds for a [2, 2] network and 3 training pairs in 23.52 seconds\n",
      "Trained 1000 rounds for a [2, 2] network and 3 training pairs in 23.41 seconds\n",
      "Trained 1000 rounds for a [2, 2] network and 3 training pairs in 23.94 seconds\n",
      "Trained 1000 rounds for a [2, 2] network and 3 training pairs in 24.54 seconds\n",
      "Trained 1000 rounds for a [2, 2] network and 3 training pairs in 23.52 seconds\n",
      "Trained 1000 rounds for a [2, 2] network and 3 training pairs in 23.46 seconds\n",
      "Trained 1000 rounds for a [2, 2] network and 3 training pairs in 23.25 seconds\n",
      "Trained 1000 rounds for a [2, 2] network and 3 training pairs in 24.35 seconds\n",
      "Trained 1000 rounds for a [2, 2] network and 3 training pairs in 24.46 seconds\n",
      "Trained 1000 rounds for a [2, 2] network and 3 training pairs in 28.2 seconds\n",
      "n=4, i=0\n",
      "Trained 1000 rounds for a [2, 2] network and 4 training pairs in 29.66 seconds\n",
      "Trained 1000 rounds for a [2, 2] network and 4 training pairs in 29.98 seconds\n",
      "Trained 1000 rounds for a [2, 2] network and 4 training pairs in 31.52 seconds\n",
      "Trained 1000 rounds for a [2, 2] network and 4 training pairs in 31.55 seconds\n",
      "Trained 1000 rounds for a [2, 2] network and 4 training pairs in 29.08 seconds\n",
      "Trained 1000 rounds for a [2, 2] network and 4 training pairs in 29.32 seconds\n",
      "Trained 1000 rounds for a [2, 2] network and 4 training pairs in 32.25 seconds\n",
      "Trained 1000 rounds for a [2, 2] network and 4 training pairs in 31.18 seconds\n",
      "Trained 1000 rounds for a [2, 2] network and 4 training pairs in 33.0 seconds\n",
      "Trained 1000 rounds for a [2, 2] network and 4 training pairs in 29.27 seconds\n",
      "Trained 1000 rounds for a [2, 2] network and 4 training pairs in 28.33 seconds\n",
      "Trained 1000 rounds for a [2, 2] network and 4 training pairs in 27.98 seconds\n",
      "Trained 1000 rounds for a [2, 2] network and 4 training pairs in 27.62 seconds\n",
      "Trained 1000 rounds for a [2, 2] network and 4 training pairs in 27.95 seconds\n",
      "Trained 1000 rounds for a [2, 2] network and 4 training pairs in 28.31 seconds\n",
      "Trained 1000 rounds for a [2, 2] network and 4 training pairs in 28.59 seconds\n",
      "Trained 1000 rounds for a [2, 2] network and 4 training pairs in 27.78 seconds\n",
      "Trained 1000 rounds for a [2, 2] network and 4 training pairs in 28.76 seconds\n",
      "Trained 1000 rounds for a [2, 2] network and 4 training pairs in 32.02 seconds\n",
      "Trained 1000 rounds for a [2, 2] network and 4 training pairs in 28.77 seconds\n",
      "1811.1571247577667\n"
     ]
    },
    {
     "data": {
      "image/png": "[encoded data removed]",
      "text/plain": [
       "<Figure size 432x288 with 1 Axes>"
      ]
     },
     "metadata": {
      "needs_background": "light"
     },
     "output_type": "display_data"
    }
   ],
   "source": [
    "#mathematica\n",
    "    #run 1: 645s = 10,8 min\n",
    "#python\n",
    "    #run 1: 884s = 14,7 min\n",
    "    #run 2: ~940s = ~15,7 min\n",
    "\n",
    "subsetNetwork22 = randomNetwork([2,2], 10)\n",
    "  \n",
    "start = time() #Optional\n",
    "\n",
    "pointsX = list(range(1,5))\n",
    "pointsBoundRand = [boundRand(4, 10, n) for n in pointsX]\n",
    "pointsAverageCost = [subsetTrainingAvg(subsetNetwork22[0], subsetNetwork22[1], subsetNetwork22[2], 1.5, 0.1, 1000, 20, n, alertIt=20) for n in pointsX]\n",
    "\n",
    "print(time() - start) #Optional\n",
    "\n",
    "plt.plot(pointsX, pointsBoundRand, 'co')\n",
    "plt.plot(pointsX, pointsAverageCost, 'bo')\n",
    "plt.show()"
   ]
  },
  {
   "cell_type": "markdown",
   "metadata": {},
   "source": [
    "### Subset training for a 3-3-3 network | D = 8"
   ]
  },
  {
   "cell_type": "code",
   "execution_count": 26,
   "metadata": {},
   "outputs": [],
   "source": [
    "#mathematica\n",
    "    #run 1: 45744s > 12h"
   ]
  },
  {
   "cell_type": "markdown",
   "metadata": {},
   "source": [
    "## 2.4 Robustness to noisy data"
   ]
  },
  {
   "cell_type": "code",
   "execution_count": 27,
   "metadata": {},
   "outputs": [],
   "source": [
    "noiseTrainingData = randomTrainingData(randomQubitUnitary(2), 100)\n",
    "noiseNoisyData = [[randomQubitState(2), randomQubitState(2)] for i in range(100)]"
   ]
  },
  {
   "cell_type": "markdown",
   "metadata": {},
   "source": [
    "### Noisy data for a 2-2 network"
   ]
  },
  {
   "cell_type": "code",
   "execution_count": 28,
   "metadata": {},
   "outputs": [
    {
     "name": "stdout",
     "output_type": "stream",
     "text": [
      "Trained 300 rounds for a [2, 2] network and 100 training pairs in 165.34 seconds\n",
      "Trained 300 rounds for a [2, 2] network and 100 training pairs in 163.93 seconds\n",
      "Trained 300 rounds for a [2, 2] network and 100 training pairs in 166.27 seconds\n",
      "Trained 300 rounds for a [2, 2] network and 100 training pairs in 190.67 seconds\n",
      "Trained 300 rounds for a [2, 2] network and 100 training pairs in 230.14 seconds\n",
      "Trained 300 rounds for a [2, 2] network and 100 training pairs in 191.08 seconds\n",
      "Trained 300 rounds for a [2, 2] network and 100 training pairs in 179.44 seconds\n",
      "Trained 300 rounds for a [2, 2] network and 100 training pairs in 184.26 seconds\n",
      "Trained 300 rounds for a [2, 2] network and 100 training pairs in 240.92 seconds\n",
      "Trained 300 rounds for a [2, 2] network and 100 training pairs in 226.44 seconds\n",
      "Trained 300 rounds for a [2, 2] network and 100 training pairs in 185.44 seconds\n",
      "Trained 300 rounds for a [2, 2] network and 100 training pairs in 198.04 seconds\n",
      "Trained 300 rounds for a [2, 2] network and 100 training pairs in 198.08 seconds\n",
      "Trained 300 rounds for a [2, 2] network and 100 training pairs in 247.36 seconds\n",
      "Trained 300 rounds for a [2, 2] network and 100 training pairs in 246.97 seconds\n",
      "Trained 300 rounds for a [2, 2] network and 100 training pairs in 271.49 seconds\n",
      "Trained 300 rounds for a [2, 2] network and 100 training pairs in 199.59 seconds\n",
      "Trained 300 rounds for a [2, 2] network and 100 training pairs in 175.04 seconds\n",
      "Trained 300 rounds for a [2, 2] network and 100 training pairs in 171.81 seconds\n",
      "Trained 300 rounds for a [2, 2] network and 100 training pairs in 166.65 seconds\n",
      "Trained 300 rounds for a [2, 2] network and 100 training pairs in 167.91 seconds\n",
      "4174.151624202728\n"
     ]
    },
    {
     "data": {
      "image/png": "[encoded data removed]",
      "text/plain": [
       "<Figure size 432x288 with 1 Axes>"
      ]
     },
     "metadata": {
      "needs_background": "light"
     },
     "output_type": "display_data"
    }
   ],
   "source": [
    "#mathematica\n",
    "    #run 1: 1659s = 27,7 min\n",
    "#python\n",
    "    #run 1: 2284s = 38,1 min\n",
    "\n",
    "start = time() #Optional\n",
    "\n",
    "noiseNetwork22 = randomNetwork([2,2], 0)\n",
    "noisePlotlist22 = noisyDataTraining(noiseNetwork22[0], noiseNetwork22[1], noiseTrainingData.copy(), noiseNoisyData.copy(), 1, 0.1, 300, 100, 5)\n",
    "\n",
    "print(time() - start) #Optional\n",
    "\n",
    "plt.plot(noisePlotlist22[0], noisePlotlist22[1], 'go')\n",
    "plt.show() "
   ]
  },
  {
   "cell_type": "markdown",
   "metadata": {},
   "source": [
    "### Noisy data for a 2-3-2 network"
   ]
  },
  {
   "cell_type": "code",
   "execution_count": 29,
   "metadata": {},
   "outputs": [
    {
     "name": "stdout",
     "output_type": "stream",
     "text": [
      "Trained 300 rounds for a [2, 3, 2] network and 100 training pairs in 544.03 seconds\n",
      "Trained 300 rounds for a [2, 3, 2] network and 100 training pairs in 537.44 seconds\n",
      "Trained 300 rounds for a [2, 3, 2] network and 100 training pairs in 538.77 seconds\n",
      "Trained 300 rounds for a [2, 3, 2] network and 100 training pairs in 539.67 seconds\n",
      "Trained 300 rounds for a [2, 3, 2] network and 100 training pairs in 570.2 seconds\n",
      "Trained 300 rounds for a [2, 3, 2] network and 100 training pairs in 939.64 seconds\n",
      "Trained 300 rounds for a [2, 3, 2] network and 100 training pairs in 1095.14 seconds\n",
      "Trained 300 rounds for a [2, 3, 2] network and 100 training pairs in 1104.58 seconds\n",
      "Trained 300 rounds for a [2, 3, 2] network and 100 training pairs in 1140.37 seconds\n",
      "Trained 300 rounds for a [2, 3, 2] network and 100 training pairs in 1094.75 seconds\n",
      "Trained 300 rounds for a [2, 3, 2] network and 100 training pairs in 1130.88 seconds\n",
      "Trained 300 rounds for a [2, 3, 2] network and 100 training pairs in 1082.0 seconds\n",
      "Trained 300 rounds for a [2, 3, 2] network and 100 training pairs in 1091.39 seconds\n",
      "Trained 300 rounds for a [2, 3, 2] network and 100 training pairs in 1076.31 seconds\n",
      "Trained 300 rounds for a [2, 3, 2] network and 100 training pairs in 1129.11 seconds\n",
      "Trained 300 rounds for a [2, 3, 2] network and 100 training pairs in 590.94 seconds\n",
      "Trained 300 rounds for a [2, 3, 2] network and 100 training pairs in 558.69 seconds\n",
      "Trained 300 rounds for a [2, 3, 2] network and 100 training pairs in 567.14 seconds\n",
      "Trained 300 rounds for a [2, 3, 2] network and 100 training pairs in 572.52 seconds\n",
      "Trained 300 rounds for a [2, 3, 2] network and 100 training pairs in 574.54 seconds\n",
      "Trained 300 rounds for a [2, 3, 2] network and 100 training pairs in 567.69 seconds\n",
      "17063.1174762249\n"
     ]
    },
    {
     "data": {
      "image/png": "[encoded data removed]",
      "text/plain": [
       "<Figure size 432x288 with 1 Axes>"
      ]
     },
     "metadata": {
      "needs_background": "light"
     },
     "output_type": "display_data"
    }
   ],
   "source": [
    "#mathematica\n",
    "    #run 1: 6256s = 104 min\n",
    "#python\n",
    "    #run 1: 7649s = 127 min\n",
    "\n",
    "start = time() #Optional\n",
    "\n",
    "noiseNetwork232 = randomNetwork([2,3,2], 0)\n",
    "noisePlotlist232 = noisyDataTraining(noiseNetwork232[0], noiseNetwork232[1], noiseTrainingData.copy(), noiseNoisyData.copy(), 1, 0.1, 300, 100, 5)\n",
    "\n",
    "print(time() - start) #Optional\n",
    "\n",
    "plt.plot(noisePlotlist232[0], noisePlotlist232[1], 'go')\n",
    "plt.show()"
   ]
  }
 ],
 "metadata": {
  "kernelspec": {
   "display_name": "Python 3",
   "language": "python",
   "name": "python3"
  },
  "language_info": {
   "codemirror_mode": {
    "name": "ipython",
    "version": 3
   },
   "file_extension": ".py",
   "mimetype": "text/x-python",
   "name": "python",
   "nbconvert_exporter": "python",
   "pygments_lexer": "ipython3",
   "version": "3.7.4"
  }
 },
 "nbformat": 4,
 "nbformat_minor": 2
}
